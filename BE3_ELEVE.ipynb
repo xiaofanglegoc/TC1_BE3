{
 "cells": [
  {
   "cell_type": "markdown",
   "metadata": {},
   "source": [
    "# BE3 Probleme de la monnaie rendu\n",
    "- Nom: \n",
    "- prenom:"
   ]
  },
  {
   "cell_type": "markdown",
   "metadata": {},
   "source": [
    "## 0, Problem de monnaie"
   ]
  },
  {
   "cell_type": "markdown",
   "metadata": {},
   "source": [
    "## 1, Solution Gloutonne\n"
   ]
  },
  {
   "cell_type": "markdown",
   "metadata": {},
   "source": [
    "### 1,1 Méthode Gloutonne"
   ]
  },
  {
   "cell_type": "code",
   "execution_count": null,
   "metadata": {
    "collapsed": true
   },
   "outputs": [],
   "source": [
    "## Votre code pour la function gloutonne\n",
    "## Please write your code here\n",
    "def gloutonne(S,M):\n",
    "    ## Please write your code here\n",
    "    pass\n"
   ]
  },
  {
   "cell_type": "code",
   "execution_count": null,
   "metadata": {
    "collapsed": true
   },
   "outputs": [],
   "source": [
    "# Voici les tests et resultats, si votre results sont pas pareille que marqués dessous, il y des erreurs dans votre algorithm\n",
    "#-------------------- Tests ----------------------       \n",
    "Rep= gloutonne(sorted([1,7,23]), 28)\n",
    "print(Rep[1], ': ', sum(Rep[1]),' pièces') if Rep[0] else print('Echec') \n",
    "# [5, 0, 1] :  6 pièces            Un epièce de 23 et 5 pièces de 1\n",
    "\n",
    "Rep= gloutonne(sorted([7,23]), 5)\n",
    "print(Rep[1], ': ', sum(Rep[1]),' pièces') if Rep[0] else print('Echec') \n",
    "# Echec car M < la + petite pièce\n",
    "\n",
    "Rep= gloutonne(sorted([7,23]), 8)\n",
    "print(Rep[1], ': ', sum(Rep[1]),' pièces') if Rep[0] else print('Echec') \n",
    "# Echec car on ne peut jamais faire la monnaie avec cette S"
   ]
  },
  {
   "cell_type": "markdown",
   "metadata": {},
   "source": [
    "### 1.2 Gloutonne mais avec des pièces disponibles en certaine quantité"
   ]
  },
  {
   "cell_type": "code",
   "execution_count": null,
   "metadata": {
    "collapsed": true
   },
   "outputs": [],
   "source": [
    "def gloutonne_D(S,M,D) :\n",
    "    #please write your code here\n",
    "    pass\n",
    "\n",
    "#------------- Test avec D = [10,10,0] : pas de pièce de 23 -------------\n",
    "Rep= gloutonne_D(sorted([1,7,23]), 28,[10,10,0])\n",
    "print(Rep[1], ': ', len(Rep[1]),' pièces') if Rep[0] else print('Echec')\n",
    "# [0, 4, 0] :  4  pièces        # On utilise 7 pièces "
   ]
  },
  {
   "cell_type": "markdown",
   "metadata": {},
   "source": [
    "## 2, Solution Programmation Dynamique (PrD)\n"
   ]
  },
  {
   "cell_type": "code",
   "execution_count": null,
   "metadata": {
    "collapsed": true
   },
   "outputs": [],
   "source": [
    "### 2.1\n"
   ]
  },
  {
   "cell_type": "code",
   "execution_count": null,
   "metadata": {
    "collapsed": true
   },
   "outputs": [],
   "source": [
    "def rendre_monnaie_PrD_avec_les_pieces(stock_pieces, Montant, lst_pieces_min, Pieces_utilisees):\n",
    "    #please write your code here\n",
    "    pass\n",
    "def afficher_pieces(Pieces_utilisees,Montant):\n",
    "    pass"
   ]
  },
  {
   "cell_type": "code",
   "execution_count": null,
   "metadata": {
    "collapsed": true
   },
   "outputs": [],
   "source": [
    "# -------- PP -----------------------------\n",
    "# montant_a_tester = 63; stock_pieces = [1,5,10,21,25]\n",
    "montant_a_tester = 63; stock_pieces = [1,5,10,25]\n",
    "# montant_a_tester = 28; stock_pieces = [1,7,23]\n",
    "\n",
    "Pieces_utilisees = [0]*(montant_a_tester+1)\n",
    "liste_pieces_minimales = [0]*(montant_a_tester+1)\n",
    "\n",
    "print(\"Monnaie pour \",montant_a_tester, \", Il faudra \", end='')\n",
    "print(rendre_monnaie_PrD_avec_les_pieces(stock_pieces, montant_a_tester, liste_pieces_minimales, Pieces_utilisees), \" pièces\")\n",
    "print(\"Les pièces utilisées : \")\n",
    "afficher_pieces(Pieces_utilisees,montant_a_tester)\n",
    "#---------------------- Resultat est comme ci-desous----------------------\n",
    "\"\"\"\n",
    "Monnaie pour  63 , Il faudra 6  pièces\n",
    "Les pièces utilisées : \n",
    "1\n",
    "1\n",
    "1\n",
    "10\n",
    "25\n",
    "25\n",
    "\n",
    "\"\"\"\n",
    "\n"
   ]
  },
  {
   "cell_type": "markdown",
   "metadata": {},
   "source": [
    "## 3 Travail a rendre\n",
    "### 3.1, Le minimum a rendre\n",
    "- Solution Gloutonne\n",
    "- La version optimal avec la Programmation Dynamique\n",
    "### 3.2, Bonus\n",
    "- Utilisation d'un arbre ternaire represente par une list\n",
    "- Solution par le chemin minimal dans un arbre\n",
    "- Version optimal pour Solution Gloutonne"
   ]
  },
  {
   "cell_type": "markdown",
   "metadata": {},
   "source": [
    "## 4 Bonus\n"
   ]
  },
  {
   "cell_type": "code",
   "execution_count": null,
   "metadata": {
    "collapsed": true
   },
   "outputs": [],
   "source": []
  }
 ],
 "metadata": {
  "kernelspec": {
   "display_name": "Python 3",
   "language": "python",
   "name": "python3"
  },
  "language_info": {
   "codemirror_mode": {
    "name": "ipython",
    "version": 3
   },
   "file_extension": ".py",
   "mimetype": "text/x-python",
   "name": "python",
   "nbconvert_exporter": "python",
   "pygments_lexer": "ipython3",
   "version": "3.4.3"
  }
 },
 "nbformat": 4,
 "nbformat_minor": 0
}
